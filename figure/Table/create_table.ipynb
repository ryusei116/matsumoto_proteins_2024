{
 "cells": [
  {
   "cell_type": "code",
   "execution_count": 1,
   "metadata": {},
   "outputs": [],
   "source": [
    "from lib.hmmdomtab_genome_parser import HmmDomtabParser\n",
    "from lib.create_ppk2_table_parser import CreatePPK2TableParser\n",
    "import lib.taxonomy_tools as taxonomy_tools\n",
    "import lib.fasta_tools as fasta_tools"
   ]
  },
  {
   "cell_type": "markdown",
   "metadata": {},
   "source": [
    "First, the output of HMM_search is read into DomtabParser and saved as a JSON file. This JSON file is then loaded into the TableParser to generate records for the table. By repeating this process for all genomes, a comprehensive table is created."
   ]
  },
  {
   "cell_type": "code",
   "execution_count": 2,
   "metadata": {},
   "outputs": [
    {
     "name": "stdout",
     "output_type": "stream",
     "text": [
      "PPK2\n"
     ]
    }
   ],
   "source": [
    "# HmmDomtabParser annotates genes with targeted domains and their surrounding genes with domain annotation.\n",
    "# HmmDomtabPPK2Parser collects only genes with PPK2 domain.\n",
    "hmmdomtab = HmmDomtabParser('./sample/GB_GCA_900539675.1_protein.faa',\"PPK2\",5)\n",
    "ppk2_dict = hmmdomtab.fetch_target_gene()\n",
    "hmmdomtab.dict2json(hmmdomtab.search_neighborhood_gene(ppk2_dict),'./sample/GB_GCA_900539675.1_protein.json')"
   ]
  },
  {
   "cell_type": "markdown",
   "metadata": {},
   "source": [
    "Domain and gene sequences are created as follows."
   ]
  },
  {
   "cell_type": "code",
   "execution_count": 3,
   "metadata": {},
   "outputs": [
    {
     "name": "stdout",
     "output_type": "stream",
     "text": [
      ">UQDJ01000049.1_3_1\n",
      "MLDTVPMGRQKISKAEYKVRFKELVNRLVVLQQEAKHKEVGVVILFEGWKGAGKGSRISDLIYHLDARDTSVYVTEDFDEDEARLVMNQDFGATGYYPVMQQFWKALGPRGSMTFYDRGWYSVAAQHITSMLPAKGKLSKKDRAAIKERAARMVDSIEDFETQLRNDGYLVLKFFLHISEKTQRERLVSLYSDPATKWRVSRKDIRQLEFYDRMYEVYDDMLDNSNFKIAPWILLDAEDHRRVNLSVVQALVTALEKE\n",
      ">UQDJ01000049.1_3_2\n",
      "SLDEVDHTLALSHAEYKLQLKAEQERLRRIELEMYIHRIPMMIMYEGWDAAGKGGSIKRVAQALDARAYTIFPSPAPTKPELAHPHLWRYWTRLPKAGHVGIYDRSWYGRVLVERVEGFASTAQWSRAYEEINEFERDMVEWGAILLKFWVDVSPETQLARFEARESNPEKQWKITSEDWRNRDKYPQYKAAVEDMFRLTSTVNAPWIILESDNKYYARVKALRIINEAIERR\n",
      "\n",
      ">UQDJ01000049.1_3\n",
      "MLDTVPMGRQKISKAEYKVRFKELVNRLVVLQQEAKHKEVGVVILFEGWKGAGKGSRISDLIYHLDARDTSVYVTEDFDEDEARLVMNQDFGATGYYPVMQQFWKALGPRGSMTFYDRGWYSVAAQHITSMLPAKGKLSKKDRAAIKERAARMVDSIEDFETQLRNDGYLVLKFFLHISEKTQRERLVSLYSDPATKWRVSRKDIRQLEFYDRMYEVYDDMLDNSNFKIAPWILLDAEDHRRVNLSVVQALVTALEKELSKKPDASMLEAEKKAQENSAGTLNEVEGDERSRTPEQNRLMLLHAQAQAKEASLHAPTMTRFAASEHIPSLDEVDHTLALSHAEYKLQLKAEQERLRRIELEMYIHRIPMMIMYEGWDAAGKGGSIKRVAQALDARAYTIFPSPAPTKPELAHPHLWRYWTRLPKAGHVGIYDRSWYGRVLVERVEGFASTAQWSRAYEEINEFERDMVEWGAILLKFWVDVSPETQLARFEARESNPEKQWKITSEDWRNRDKYPQYKAAVEDMFRLTSTVNAPWIILESDNKYYARVKALRIINEAIERRLDVM*\n",
      "\n"
     ]
    }
   ],
   "source": [
    "print(hmmdomtab.output_fasta_seq(domain=True))\n",
    "print(hmmdomtab.output_fasta_seq(domain=False))\n"
   ]
  },
  {
   "cell_type": "code",
   "execution_count": 4,
   "metadata": {},
   "outputs": [
    {
     "name": "stdout",
     "output_type": "stream",
     "text": [
      "{'gene_accession': 'UQDJ01000049.1_3', 'org_accession': 'GB_GCA_900539675.1', 'gene_position_id': '49_3', 'query_domain': 'PPK2', 'gene_annotation_by_domain': 'PPK2/PPK2', 'gene_length': 566, 'pI': 6.74294605255127, 'sequence': 'MLDTVPMGRQKISKAEYKVRFKELVNRLVVLQQEAKHKEVGVVILFEGWKGAGKGSRISDLIYHLDARDTSVYVTEDFDEDEARLVMNQDFGATGYYPVMQQFWKALGPRGSMTFYDRGWYSVAAQHITSMLPAKGKLSKKDRAAIKERAARMVDSIEDFETQLRNDGYLVLKFFLHISEKTQRERLVSLYSDPATKWRVSRKDIRQLEFYDRMYEVYDDMLDNSNFKIAPWILLDAEDHRRVNLSVVQALVTALEKELSKKPDASMLEAEKKAQENSAGTLNEVEGDERSRTPEQNRLMLLHAQAQAKEASLHAPTMTRFAASEHIPSLDEVDHTLALSHAEYKLQLKAEQERLRRIELEMYIHRIPMMIMYEGWDAAGKGGSIKRVAQALDARAYTIFPSPAPTKPELAHPHLWRYWTRLPKAGHVGIYDRSWYGRVLVERVEGFASTAQWSRAYEEINEFERDMVEWGAILLKFWVDVSPETQLARFEARESNPEKQWKITSEDWRNRDKYPQYKAAVEDMFRLTSTVNAPWIILESDNKYYARVKALRIINEAIERRLDVM*', 'taxonomy': 'd__Bacteria;p__Actinobacteriota;c__Coriobacteriia;o__Coriobacteriales;f__Eggerthellaceae;g__CAG-1427;s__CAG-1427 sp900539675', 'ppk2_class': 2, 'ppk2_duplicate': 0}\n"
     ]
    }
   ],
   "source": [
    "create_table_parser = CreatePPK2TableParser('./sample/GB_GCA_900539675.1_protein.json')\n",
    "df_taxonomy = taxonomy_tools.create_taxonomy_df()\n",
    "df_fasta = fasta_tools.create_df_fasta(f\"./../../data/ppk2_gene_all.fasta\")\n",
    "print(create_table_parser.create_table(df_fasta,df_taxonomy).__next__())"
   ]
  }
 ],
 "metadata": {
  "kernelspec": {
   "display_name": "venv",
   "language": "python",
   "name": "python3"
  },
  "language_info": {
   "codemirror_mode": {
    "name": "ipython",
    "version": 3
   },
   "file_extension": ".py",
   "mimetype": "text/x-python",
   "name": "python",
   "nbconvert_exporter": "python",
   "pygments_lexer": "ipython3",
   "version": "3.11.9"
  }
 },
 "nbformat": 4,
 "nbformat_minor": 2
}
